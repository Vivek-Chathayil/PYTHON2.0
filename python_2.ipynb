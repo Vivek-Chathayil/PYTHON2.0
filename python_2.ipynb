{
  "nbformat": 4,
  "nbformat_minor": 0,
  "metadata": {
    "colab": {
      "provenance": []
    },
    "kernelspec": {
      "name": "python3",
      "display_name": "Python 3"
    },
    "language_info": {
      "name": "python"
    }
  },
  "cells": [
    {
      "cell_type": "code",
      "execution_count": null,
      "metadata": {
        "id": "078GnkJlX0jt"
      },
      "outputs": [],
      "source": [
        " a=5.23\n",
        " b=6"
      ]
    },
    {
      "cell_type": "code",
      "source": [
        "print(type(c))"
      ],
      "metadata": {
        "colab": {
          "base_uri": "https://localhost:8080/"
        },
        "id": "hsUPqR8ralsY",
        "outputId": "d5a5cbc2-5f2c-4bdb-e83a-e35ad800f046"
      },
      "execution_count": null,
      "outputs": [
        {
          "output_type": "stream",
          "name": "stdout",
          "text": [
            "<class 'str'>\n"
          ]
        }
      ]
    },
    {
      "cell_type": "code",
      "source": [
        "c='hello'"
      ],
      "metadata": {
        "id": "AOqliUqTa4Bb"
      },
      "execution_count": null,
      "outputs": []
    },
    {
      "cell_type": "code",
      "source": [
        "a=[1,3,5,6.33,'soap']"
      ],
      "metadata": {
        "id": "I_OML8r6dMUh"
      },
      "execution_count": null,
      "outputs": []
    },
    {
      "cell_type": "code",
      "source": [
        "print(type(a))"
      ],
      "metadata": {
        "colab": {
          "base_uri": "https://localhost:8080/"
        },
        "id": "eYjHzZQWd27H",
        "outputId": "cdee43b6-b52c-4612-de76-21c6e35e383f"
      },
      "execution_count": null,
      "outputs": [
        {
          "output_type": "stream",
          "name": "stdout",
          "text": [
            "<class 'list'>\n"
          ]
        }
      ]
    },
    {
      "cell_type": "code",
      "source": [
        "d=False"
      ],
      "metadata": {
        "id": "vLBt2PRZd9JP"
      },
      "execution_count": null,
      "outputs": []
    },
    {
      "cell_type": "code",
      "source": [
        "print(type(d))"
      ],
      "metadata": {
        "colab": {
          "base_uri": "https://localhost:8080/"
        },
        "id": "5VpBsKG2eMxV",
        "outputId": "89e94479-dc5b-42b3-8d4b-c32d6d3f4b8c"
      },
      "execution_count": null,
      "outputs": [
        {
          "output_type": "stream",
          "name": "stdout",
          "text": [
            "<class 'bool'>\n"
          ]
        }
      ]
    },
    {
      "cell_type": "code",
      "source": [
        "b=(5,5.6,'soap')\n",
        "print(type(b))"
      ],
      "metadata": {
        "colab": {
          "base_uri": "https://localhost:8080/"
        },
        "id": "elnc6NoIeQ47",
        "outputId": "d69a6708-a627-4866-80a6-0d6fb28b3892"
      },
      "execution_count": null,
      "outputs": [
        {
          "output_type": "stream",
          "name": "stdout",
          "text": [
            "<class 'tuple'>\n"
          ]
        }
      ]
    },
    {
      "cell_type": "code",
      "source": [
        "s={2,5,}\n",
        "print(type(s))"
      ],
      "metadata": {
        "colab": {
          "base_uri": "https://localhost:8080/"
        },
        "id": "-5Dvc1GUfcdq",
        "outputId": "a46e6f0d-5b73-459f-bfd6-b63fdf3d887f"
      },
      "execution_count": null,
      "outputs": [
        {
          "output_type": "stream",
          "name": "stdout",
          "text": [
            "<class 'set'>\n"
          ]
        }
      ]
    },
    {
      "cell_type": "code",
      "source": [
        "e=frozenset({2,5,})\n",
        "print(type(e))"
      ],
      "metadata": {
        "colab": {
          "base_uri": "https://localhost:8080/"
        },
        "id": "HGYomPPhfqc8",
        "outputId": "58c7d440-114d-408e-d489-2ad5876fd0b7"
      },
      "execution_count": null,
      "outputs": [
        {
          "output_type": "stream",
          "name": "stdout",
          "text": [
            "<class 'frozenset'>\n"
          ]
        }
      ]
    },
    {
      "cell_type": "code",
      "source": [
        "di={1:\"mike\",2:\"nike\"}\n",
        "di"
      ],
      "metadata": {
        "colab": {
          "base_uri": "https://localhost:8080/"
        },
        "id": "EnZljq0BfuUH",
        "outputId": "6204cee6-ff36-430b-ed68-09947e0dc9ba"
      },
      "execution_count": null,
      "outputs": [
        {
          "output_type": "execute_result",
          "data": {
            "text/plain": [
              "{1: 'mike', 2: 'nike'}"
            ]
          },
          "metadata": {},
          "execution_count": 24
        }
      ]
    },
    {
      "cell_type": "code",
      "source": [
        "print(a,b,c,d,e,di,s)"
      ],
      "metadata": {
        "colab": {
          "base_uri": "https://localhost:8080/"
        },
        "id": "3zrpNpMCg0Al",
        "outputId": "4fbd75a8-7060-4c80-d626-3f756b4cc79b"
      },
      "execution_count": null,
      "outputs": [
        {
          "output_type": "stream",
          "name": "stdout",
          "text": [
            "[1, 3, 5, 6.33, 'soap'] (5, 5.6, 'soap') hello False frozenset({2, 5}) {1: 'mike', 2: 'nike'} {2, 5}\n"
          ]
        }
      ]
    },
    {
      "cell_type": "markdown",
      "source": [
        "operations in string\n",
        "\n",
        "*   strip ()remove meaning less white space :\n",
        "        str.strip()\n",
        "\n",
        "*   replace() method replaces a string with another string:\n",
        "        str.replace()\n",
        "*   split() method returns a list where the text between the specified separator becomes the list items:\n",
        "        a = \"Hello, World!\"\n",
        "        print(a.split(\",\")) # returns ['Hello', ' World!']\n",
        "\n",
        "\n",
        "*   To concatenate, or combine, two strings you can use the + operator.\n",
        "        a = \"Hello\"\n",
        "        b = \"World\"\n",
        "        c = a + b\n",
        "        print(c)\n",
        "        output:\n",
        "        HelloWorld\n",
        "\n",
        "\n",
        "*   Slicing You can return a range of characters by using the slice syntax.\n",
        "         b = \"Hello, World!\"\n",
        "         print(b[2:5])\n",
        "         OUTPUT:\n",
        "         llo\n",
        "*   Slice From the Start\n",
        "\n",
        "By leaving out the start index, the range will start at the first character:\n",
        "      Get the characters:\n",
        "\n",
        "      From: \"o\" in \"World!\" (positio  From\n",
        "\n",
        "\n",
        "\n"
      ],
      "metadata": {
        "id": "81rDxy6rh8GV"
      }
    },
    {
      "cell_type": "markdown",
      "source": [
        "#**FROZEN SET**\n",
        "### the frozenset() function creates an immutable version of a set. It's like a set, but you can't add or remove elements after creation.\n",
        "\n",
        "1. Creating a Frozenset:\n",
        "\n",
        "    The frozenset() function takes an optional iterable object (like a list, tuple, or another set) as input.\n",
        "\n",
        "2. Immutability:\n",
        "\n",
        "    Once a frozenset is created, you can't add or remove elements from it.\n",
        "    Attempting to modify a frozenset will raise an AttributeError.\n",
        "\n",
        "\n",
        "3. Set Operations:\n",
        "\n",
        "    You can perform standard set operations (union, intersection, difference, etc.) on frozensets.\n",
        "    The result of these operations will always be a new frozenset.\n",
        "\n",
        "## SET INITIALISATION\n",
        "###A = frozenset([1, 2, 3, 4])\n",
        "###B = frozenset([3, 4, 5, 6])\n",
        "\n",
        "# copying a frozenset\n",
        "C = A.copy()\n",
        "print(C)  \n",
        "##Output\n",
        "    frozenset({1, 2, 3, 4})\n",
        "# Union\n",
        "union_set = A.union(B)\n",
        "print(union_set)\n",
        "##Output\n",
        "    frozenset({1, 2, 3, 4, 5, 6})\n",
        "# Intersection\n",
        "intersection_set = A.intersection(B)\n",
        "print(intersection_set)  \n",
        "\n",
        "##Output\n",
        "    frozenset({3, 4})\n",
        "## Difference\n",
        "difference_set = A.difference(B)\n",
        "print(difference_set)\n",
        "#Output\n",
        "    frozenset({1, 2})\n",
        "## symmetric_difference\n",
        "symmetric_difference_set = A.symmetric_difference(B)\n",
        "print(symmetric_difference_set)\n",
        "\n",
        "#Output\n",
        "    frozenset({1, 2, 5, 6})\n",
        "\n",
        "#Boolean\n",
        "##The Boolean data type represents truth values, primarily True and False. These values are used for logical operations and comparisons.\n",
        "\n",
        "Here's a breakdown:\n",
        "\n",
        "* Values: A Boolean variable can hold one of two values:\n",
        "True: Represents a true condition.False: Represents a false condition.\n",
        "* Keywords: True and False are reserved keywords in Python. They are not strings or numbers.\n",
        "\n",
        "* Usage: Booleans are commonly used in:\n",
        "* Conditional statements: if, elif, else\n",
        "* Comparison operations: == (equal to), != (not equal to), > (greater than), < (less than), >= (greater than or equal to), <= (less than or equal to)\n",
        "* Logical operations: and, or, not\n",
        "\n",
        "## EXAMPLE\n",
        "\n",
        "    # Using Booleans in a comparison\n",
        "    is_raining = True  # It's raining\n",
        "    is_sunny = False   # It's not sunny\n",
        "\n",
        "    # Using Booleans in a conditional statement\n",
        "    if is_raining:\n",
        "    print(\"Remember to take an umbrella!\")\n",
        "    else:\n",
        "    print(\"Enjoy the nice weather!\")\n",
        "\n",
        "    # Using Booleans in a comparison\n",
        "    temperature = 25\n",
        "    is_hot = temperature > 30  # False, since 25 is not greater than 30\n",
        "    print(f\"Is it hot? {is_hot}\")\n",
        "    # Output: Is it hot? False\n"
      ],
      "metadata": {
        "id": "t2-EX2aQIL5S"
      }
    },
    {
      "cell_type": "code",
      "source": [
        "text=input(\"Enter a input\\n\")\n",
        "demo=text[::-1]\n",
        "if text==demo:\n",
        "  print(\"palindrome\")\n",
        "else:\n",
        "  print(\"not palindrome\")"
      ],
      "metadata": {
        "id": "Elz399eAY9Ws",
        "colab": {
          "base_uri": "https://localhost:8080/"
        },
        "outputId": "45006147-7390-4efe-b1bf-9ff7539185e4"
      },
      "execution_count": null,
      "outputs": [
        {
          "output_type": "stream",
          "name": "stdout",
          "text": [
            "Enter a input\n",
            "hello\n",
            "not palindrome\n"
          ]
        }
      ]
    },
    {
      "cell_type": "code",
      "source": [
        "l=int(input(\"Enter the limit\\n\"))\n",
        "x=()\n",
        "print(\"Enter the elements\\n\")\n",
        "for i in range(0,l+1):\n",
        "  n=int(input())\n",
        "  x.append(n)\n",
        "print(x)\n"
      ],
      "metadata": {
        "colab": {
          "base_uri": "https://localhost:8080/"
        },
        "id": "Wa1WPqhUmWev",
        "outputId": "54f45246-d3f8-4e6b-b6b8-3d29633abb08"
      },
      "execution_count": null,
      "outputs": [
        {
          "output_type": "stream",
          "name": "stdout",
          "text": [
            "Enter the limit\n",
            "3\n",
            "Enter the elements\n",
            "\n",
            "23\n",
            "43\n",
            "64\n",
            "33\n",
            "(23, 43, 64, 33)\n"
          ]
        }
      ]
    },
    {
      "cell_type": "code",
      "source": [
        "l=int(input(\"Enter the limit\\n\"))\n",
        "x=[]\n",
        "print(\"Enter the elements\\n\")\n",
        "for i in range(0,l+1):\n",
        "  n=(input())\n",
        "  x.append(n)\n",
        "x.sort()\n",
        "print(x)\n",
        "s=set(x)\n",
        "print(s)\n",
        "y=tuple(x)\n",
        "print(y)\n"
      ],
      "metadata": {
        "colab": {
          "base_uri": "https://localhost:8080/"
        },
        "id": "D3kTTeuYqiG9",
        "outputId": "a17b0cf6-57ab-4621-e796-2a293c2e11c3"
      },
      "execution_count": null,
      "outputs": [
        {
          "output_type": "stream",
          "name": "stdout",
          "text": [
            "Enter the limit\n",
            "2\n",
            "Enter the elements\n",
            "\n",
            "vivek\n",
            "christo\n",
            "naju\n",
            "['christo', 'naju', 'vivek']\n",
            "{'vivek', 'naju', 'christo'}\n",
            "('christo', 'naju', 'vivek')\n"
          ]
        }
      ]
    },
    {
      "cell_type": "code",
      "source": [
        "x=[2,43,234,2,466,4,234,466,34,373,124,124,46,23,43]\n",
        "s=set(x)\n",
        "print(s)\n",
        "x=list(s)\n",
        "print(x)"
      ],
      "metadata": {
        "colab": {
          "base_uri": "https://localhost:8080/"
        },
        "id": "ISQ5yADqtljM",
        "outputId": "15203d65-7413-4320-cc9b-91f05ef25d85"
      },
      "execution_count": null,
      "outputs": [
        {
          "output_type": "stream",
          "name": "stdout",
          "text": [
            "{2, 34, 4, 234, 43, 46, 466, 373, 23, 124}\n",
            "[2, 34, 4, 234, 43, 46, 466, 373, 23, 124]\n"
          ]
        }
      ]
    },
    {
      "cell_type": "code",
      "source": [
        "x=(2,43,234,2,466,4,234,466,34,373,124,124,46,23,43,2)\n",
        "s=set(x)\n",
        "print(s)\n",
        "x=tuple(s)\n",
        "print(x)"
      ],
      "metadata": {
        "colab": {
          "base_uri": "https://localhost:8080/"
        },
        "id": "BYaOkQEOuajD",
        "outputId": "7ba8637f-d112-46ee-dfce-a5070a3133ae"
      },
      "execution_count": null,
      "outputs": [
        {
          "output_type": "stream",
          "name": "stdout",
          "text": [
            "{2, 34, 4, 234, 43, 46, 466, 373, 23, 124}\n",
            "(2, 34, 4, 234, 43, 46, 466, 373, 23, 124)\n"
          ]
        }
      ]
    },
    {
      "cell_type": "code",
      "source": [
        "l=int(input(\"enter the limit:\"))\n",
        "x=[]\n",
        "for i in range(l):\n",
        "  n=int(input(f\"enter {i} elements\"))\n",
        "  x.append(n)\n",
        "x.sort()\n",
        "print(\"Largest NO:\",x[-1])"
      ],
      "metadata": {
        "id": "sjPODw0Zunp9",
        "colab": {
          "base_uri": "https://localhost:8080/"
        },
        "outputId": "f3d98546-0c30-47a0-f9dc-7965ca565dce"
      },
      "execution_count": null,
      "outputs": [
        {
          "output_type": "stream",
          "name": "stdout",
          "text": [
            "enter the limit:3\n",
            "enter 0 elements4\n",
            "enter 1 elements2\n",
            "enter 2 elements6\n",
            "Largest NO: 6\n"
          ]
        }
      ]
    },
    {
      "cell_type": "code",
      "source": [
        "l=int(input(\"enter the limit:\"))\n",
        "x=[]\n",
        "for i in range(l):\n",
        "  n=int(input(f\"enter {i} elements\"))\n",
        "  x.append(n)\n",
        "M=max(x)\n",
        "m=min(x)\n",
        "print(\"Largest NO:\",M)\n",
        "print(\"smallest NO:\",m)"
      ],
      "metadata": {
        "colab": {
          "base_uri": "https://localhost:8080/"
        },
        "id": "4kjwuvKazRhb",
        "outputId": "98bb1334-8918-40f9-86ae-703734916741"
      },
      "execution_count": null,
      "outputs": [
        {
          "output_type": "stream",
          "name": "stdout",
          "text": [
            "enter the limit:3\n",
            "enter 0 elements4\n",
            "enter 1 elements2\n",
            "enter 2 elements6\n",
            "Largest NO: 6\n",
            "smallest NO: 2\n"
          ]
        }
      ]
    },
    {
      "cell_type": "code",
      "source": [
        "for i in range (1,11):\n",
        "  print()\n",
        "  for i in range (1,11):\n",
        "     print(\" \",i,\"*\",j,\"=\",i*j)\n",
        "  print(\"----------------\")"
      ],
      "metadata": {
        "colab": {
          "base_uri": "https://localhost:8080/"
        },
        "id": "OxPeTWiTfEFE",
        "outputId": "d4850c1a-39fc-4a71-f33a-24f9bbb0739f"
      },
      "execution_count": null,
      "outputs": [
        {
          "output_type": "stream",
          "name": "stdout",
          "text": [
            "\n",
            "  1 * 4 = 4\n",
            "  2 * 4 = 8\n",
            "  3 * 4 = 12\n",
            "  4 * 4 = 16\n",
            "  5 * 4 = 20\n",
            "  6 * 4 = 24\n",
            "  7 * 4 = 28\n",
            "  8 * 4 = 32\n",
            "  9 * 4 = 36\n",
            "  10 * 4 = 40\n",
            "----------------\n",
            "\n",
            "  1 * 4 = 4\n",
            "  2 * 4 = 8\n",
            "  3 * 4 = 12\n",
            "  4 * 4 = 16\n",
            "  5 * 4 = 20\n",
            "  6 * 4 = 24\n",
            "  7 * 4 = 28\n",
            "  8 * 4 = 32\n",
            "  9 * 4 = 36\n",
            "  10 * 4 = 40\n",
            "----------------\n",
            "\n",
            "  1 * 4 = 4\n",
            "  2 * 4 = 8\n",
            "  3 * 4 = 12\n",
            "  4 * 4 = 16\n",
            "  5 * 4 = 20\n",
            "  6 * 4 = 24\n",
            "  7 * 4 = 28\n",
            "  8 * 4 = 32\n",
            "  9 * 4 = 36\n",
            "  10 * 4 = 40\n",
            "----------------\n",
            "\n",
            "  1 * 4 = 4\n",
            "  2 * 4 = 8\n",
            "  3 * 4 = 12\n",
            "  4 * 4 = 16\n",
            "  5 * 4 = 20\n",
            "  6 * 4 = 24\n",
            "  7 * 4 = 28\n",
            "  8 * 4 = 32\n",
            "  9 * 4 = 36\n",
            "  10 * 4 = 40\n",
            "----------------\n",
            "\n",
            "  1 * 4 = 4\n",
            "  2 * 4 = 8\n",
            "  3 * 4 = 12\n",
            "  4 * 4 = 16\n",
            "  5 * 4 = 20\n",
            "  6 * 4 = 24\n",
            "  7 * 4 = 28\n",
            "  8 * 4 = 32\n",
            "  9 * 4 = 36\n",
            "  10 * 4 = 40\n",
            "----------------\n",
            "\n",
            "  1 * 4 = 4\n",
            "  2 * 4 = 8\n",
            "  3 * 4 = 12\n",
            "  4 * 4 = 16\n",
            "  5 * 4 = 20\n",
            "  6 * 4 = 24\n",
            "  7 * 4 = 28\n",
            "  8 * 4 = 32\n",
            "  9 * 4 = 36\n",
            "  10 * 4 = 40\n",
            "----------------\n",
            "\n",
            "  1 * 4 = 4\n",
            "  2 * 4 = 8\n",
            "  3 * 4 = 12\n",
            "  4 * 4 = 16\n",
            "  5 * 4 = 20\n",
            "  6 * 4 = 24\n",
            "  7 * 4 = 28\n",
            "  8 * 4 = 32\n",
            "  9 * 4 = 36\n",
            "  10 * 4 = 40\n",
            "----------------\n",
            "\n",
            "  1 * 4 = 4\n",
            "  2 * 4 = 8\n",
            "  3 * 4 = 12\n",
            "  4 * 4 = 16\n",
            "  5 * 4 = 20\n",
            "  6 * 4 = 24\n",
            "  7 * 4 = 28\n",
            "  8 * 4 = 32\n",
            "  9 * 4 = 36\n",
            "  10 * 4 = 40\n",
            "----------------\n",
            "\n",
            "  1 * 4 = 4\n",
            "  2 * 4 = 8\n",
            "  3 * 4 = 12\n",
            "  4 * 4 = 16\n",
            "  5 * 4 = 20\n",
            "  6 * 4 = 24\n",
            "  7 * 4 = 28\n",
            "  8 * 4 = 32\n",
            "  9 * 4 = 36\n",
            "  10 * 4 = 40\n",
            "----------------\n",
            "\n",
            "  1 * 4 = 4\n",
            "  2 * 4 = 8\n",
            "  3 * 4 = 12\n",
            "  4 * 4 = 16\n",
            "  5 * 4 = 20\n",
            "  6 * 4 = 24\n",
            "  7 * 4 = 28\n",
            "  8 * 4 = 32\n",
            "  9 * 4 = 36\n",
            "  10 * 4 = 40\n",
            "----------------\n"
          ]
        }
      ]
    },
    {
      "cell_type": "code",
      "source": [
        "for i in range (5):\n",
        "  for k in range (5-i):\n",
        "    print(\" \",end=\"\")\n",
        "  for j in range (i+1,):\n",
        "    print(\"*\",end=\"\")\n",
        "  for s in range (i):\n",
        "     print(\"*\",end=\"\")\n",
        "  print()"
      ],
      "metadata": {
        "colab": {
          "base_uri": "https://localhost:8080/"
        },
        "id": "Q1Ro8GYNgcDa",
        "outputId": "085b55e0-9ee5-4af6-b92f-78111b487338"
      },
      "execution_count": null,
      "outputs": [
        {
          "output_type": "stream",
          "name": "stdout",
          "text": [
            "     *\n",
            "    ***\n",
            "   *****\n",
            "  *******\n",
            " *********\n"
          ]
        }
      ]
    },
    {
      "cell_type": "code",
      "source": [
        "for i in range (1,10):\n",
        "  for k in range (1,i+1):\n",
        "    print(k,end=\"\")\n",
        "  print()"
      ],
      "metadata": {
        "colab": {
          "base_uri": "https://localhost:8080/"
        },
        "id": "Du9h7JX5rEfE",
        "outputId": "66c6806e-a7ce-4f0a-cf88-9c0fcf2f4fd9"
      },
      "execution_count": null,
      "outputs": [
        {
          "output_type": "stream",
          "name": "stdout",
          "text": [
            "1\n",
            "12\n",
            "123\n",
            "1234\n",
            "12345\n",
            "123456\n",
            "1234567\n",
            "12345678\n",
            "123456789\n"
          ]
        }
      ]
    },
    {
      "cell_type": "code",
      "source": [
        "for i in range (9):\n",
        "  for j in range (9-i):\n",
        "    print(\" \",end=\"\")\n",
        "  for k in range (i+1):\n",
        "    print(i+1,end=\"\")\n",
        "  for k in range (i):\n",
        "    print(i+1,end=\"\")\n",
        "\n",
        "  print()\n"
      ],
      "metadata": {
        "colab": {
          "base_uri": "https://localhost:8080/"
        },
        "id": "qCDVxD8tn8Zv",
        "outputId": "bf00f25f-f76e-4145-c48d-59a58d24e327"
      },
      "execution_count": null,
      "outputs": [
        {
          "output_type": "stream",
          "name": "stdout",
          "text": [
            "         1\n",
            "        222\n",
            "       33333\n",
            "      4444444\n",
            "     555555555\n",
            "    66666666666\n",
            "   7777777777777\n",
            "  888888888888888\n",
            " 99999999999999999\n"
          ]
        }
      ]
    },
    {
      "cell_type": "code",
      "source": [
        "l=int(input(\"Enter the length\\n\"))\n",
        "b=int(input(\"Enter the breadth\\n\"))\n",
        "if l==b:\n",
        "  print(\"square\")\n",
        "  for i in range (l):\n",
        "    for j in range (b):\n",
        "      print(\" . \",end=\"\")\n",
        "    print()\n",
        "else:\n",
        "  print(\"rectangle\")\n",
        "  for i in range (l):\n",
        "    for j in range (b):\n",
        "      print(\" . \",end=\"\")\n",
        "    print()\n"
      ],
      "metadata": {
        "colab": {
          "base_uri": "https://localhost:8080/"
        },
        "id": "sB1dbl9Yu4DC",
        "outputId": "7b2f20ce-faad-4a29-9a4a-440553c86e6e"
      },
      "execution_count": null,
      "outputs": [
        {
          "output_type": "stream",
          "name": "stdout",
          "text": [
            "Enter the length\n",
            "10\n",
            "Enter the breadth\n",
            "10\n",
            "square\n",
            " .  .  .  .  .  .  .  .  .  . \n",
            " .  .  .  .  .  .  .  .  .  . \n",
            " .  .  .  .  .  .  .  .  .  . \n",
            " .  .  .  .  .  .  .  .  .  . \n",
            " .  .  .  .  .  .  .  .  .  . \n",
            " .  .  .  .  .  .  .  .  .  . \n",
            " .  .  .  .  .  .  .  .  .  . \n",
            " .  .  .  .  .  .  .  .  .  . \n",
            " .  .  .  .  .  .  .  .  .  . \n",
            " .  .  .  .  .  .  .  .  .  . \n"
          ]
        }
      ]
    },
    {
      "cell_type": "code",
      "source": [
        "def my_func():\n",
        "  print(\"HEllo from function\")\n",
        "my_func()\n"
      ],
      "metadata": {
        "id": "FjEIwwJdseku",
        "colab": {
          "base_uri": "https://localhost:8080/"
        },
        "outputId": "a7b7692d-4f49-4905-c57f-10c5daf92248"
      },
      "execution_count": 2,
      "outputs": [
        {
          "output_type": "stream",
          "name": "stdout",
          "text": [
            "HEllo from function\n"
          ]
        }
      ]
    },
    {
      "cell_type": "code",
      "source": [
        "a=10\n",
        "b=15\n",
        "def add(a,b):\n",
        "  return a+b\n",
        "add(a,b)\n"
      ],
      "metadata": {
        "colab": {
          "base_uri": "https://localhost:8080/"
        },
        "id": "Zu1t3Uk2Brdl",
        "outputId": "d047f6b2-945d-42fa-9cb6-a0cf58152f7f"
      },
      "execution_count": 20,
      "outputs": [
        {
          "output_type": "execute_result",
          "data": {
            "text/plain": [
              "25"
            ]
          },
          "metadata": {},
          "execution_count": 20
        }
      ]
    },
    {
      "cell_type": "code",
      "source": [
        "a=10\n",
        "b=15\n",
        "def add(x,y=4):\n",
        "  return x+y\n",
        "add(a)\n",
        "\n"
      ],
      "metadata": {
        "colab": {
          "base_uri": "https://localhost:8080/"
        },
        "id": "-Cxy-h0HClZA",
        "outputId": "d882d25b-2d57-478d-895f-53ed1b92fa85"
      },
      "execution_count": 18,
      "outputs": [
        {
          "output_type": "execute_result",
          "data": {
            "text/plain": [
              "14"
            ]
          },
          "metadata": {},
          "execution_count": 18
        }
      ]
    },
    {
      "cell_type": "markdown",
      "source": [
        "#2. Method Decorators:\n",
        "\n",
        "Used to decorate methods within a class. They often handle special cases, such as the self argument for instance methods."
      ],
      "metadata": {
        "id": "TA6Vrfi6Q1pR"
      }
    },
    {
      "cell_type": "code",
      "source": [
        "def method_decorator(func):\n",
        "    def wrapper(self):\n",
        "        print(\"Before method execution\")\n",
        "        res = func(self)\n",
        "        print(\"After method execution\")\n",
        "        return res\n",
        "    return wrapper\n",
        "\n",
        "class MyClass:\n",
        "    @method_decorator\n",
        "    def say_hello(self):\n",
        "        print(\"Hello!\")\n",
        "\n",
        "obj = MyClass()\n",
        "obj.say_hello()"
      ],
      "metadata": {
        "colab": {
          "base_uri": "https://localhost:8080/"
        },
        "id": "Iz9SpwffEVla",
        "outputId": "abdd1ec2-f6d3-42c8-8d34-8c92efa8a6af"
      },
      "execution_count": 21,
      "outputs": [
        {
          "output_type": "stream",
          "name": "stdout",
          "text": [
            "Before method execution\n",
            "Hello!\n",
            "After method execution\n"
          ]
        }
      ]
    },
    {
      "cell_type": "markdown",
      "source": [
        "##You've provided a great example of a method decorator in Python! Let's break down what's happening here.\n",
        "\n",
        "This code demonstrates how to use a decorator (method_decorator) to add extra functionality before and after a method (say_hello) of a class (MyClass) is executed.\n",
        "\n",
        "Here's a breakdown:\n",
        "\n",
        "    method_decorator(func) Function:\n",
        "        This is the decorator function. It takes one argument, func, which is the method it will be decorating (in this case, say_hello).\n",
        "        It defines an inner function called wrapper.\n",
        "\n",
        "    wrapper(self, *args, **kwargs) Function:\n",
        "        This is the function that will actually replace the original say_hello method after the decoration.\n",
        "        self: This parameter is crucial for method decorators. It receives the instance of the class that the method is called on. When obj.say_hello() is called, obj is passed as the self argument to wrapper.\n",
        "        *args: This collects any positional arguments passed to the decorated method into a tuple.\n",
        "        **kwargs: This collects any keyword arguments passed to the decorated method into a dictionary.\n",
        "        Inside wrapper:\n",
        "            print(\"Before method execution\"): This line executes before the original method.\n",
        "            res = func(self, *args, **kwargs): This is the core of the wrapper. It calls the original method (func, which is say_hello) with the self instance and any arguments (*args, **kwargs) that were passed to the decorated method. The return value of the original method is stored in res.\n",
        "            print(\"After method execution\"): This line executes after the original method.\n",
        "            return res: The wrapper returns the result of the original method.\n",
        "\n",
        "    @method_decorator:\n",
        "        This is the decorator syntax. When placed above a method definition, it tells Python to pass that method (say_hello) to the method_decorator function. The return value of method_decorator (which is the wrapper function) then replaces the original method.\n",
        "\n",
        "    class MyClass::\n",
        "        This defines a class named MyClass.\n",
        "\n",
        "    def say_hello(self)::\n",
        "        This is the method inside MyClass that is being decorated. It takes self as the first argument, as is standard for instance methods.\n",
        "\n",
        "    obj = MyClass():\n",
        "        This creates an instance of the MyClass class and assigns it to the variable obj.\n",
        "\n",
        "    obj.say_hello():\n",
        "        This calls the say_hello method on the obj instance. Because say_hello was decorated, this call actually executes the wrapper function within the decorator.\n",
        "\n",
        "In essence, the decorator intercepts the call to say_hello, executes some code before and after it, and then calls the original say_hello method.\n",
        "\n",
        "This is a powerful technique for adding cross-cutting concerns (like logging, timing, access control) to multiple methods without modifying their original code directly.\n"
      ],
      "metadata": {
        "id": "YxDr-jxJQ4wA"
      }
    },
    {
      "cell_type": "code",
      "source": [
        "class Parent:\n",
        "  def randsom(self):\n",
        "    print(\"Parent Randsom\")\n",
        "class Child(Parent):\n",
        "  def randsom(self):\n",
        "    print(\"Child Randsom\")\n",
        "ob=Child()\n",
        "ob.randsom()"
      ],
      "metadata": {
        "colab": {
          "base_uri": "https://localhost:8080/"
        },
        "id": "a4zwbEBSWve1",
        "outputId": "aca93f74-c8ac-4474-d5b4-2a76e7e46821"
      },
      "execution_count": 25,
      "outputs": [
        {
          "output_type": "stream",
          "name": "stdout",
          "text": [
            "Child Randsom\n"
          ]
        }
      ]
    },
    {
      "cell_type": "code",
      "source": [
        "class Parent:\n",
        "  def randsom_parent(self):\n",
        "    print(\"Parent Randsom\")\n",
        "class Child(Parent):\n",
        "  def randsom(self):\n",
        "    print(\"Child Randsom\")\n",
        "ob=Child()\n",
        "ob.randsom_parent()"
      ],
      "metadata": {
        "colab": {
          "base_uri": "https://localhost:8080/"
        },
        "id": "INGApMSzXlnd",
        "outputId": "87b10df8-89d0-4e42-bffd-0fff287197c4"
      },
      "execution_count": 27,
      "outputs": [
        {
          "output_type": "stream",
          "name": "stdout",
          "text": [
            "Parent Randsom\n"
          ]
        }
      ]
    },
    {
      "cell_type": "code",
      "source": [
        "class GrandParent:\n",
        "  def randsom_GrandParent(self):\n",
        "    print(\"Grand Parent Randsom\")\n",
        "class Parent(GrandParent):\n",
        "  def randsom_parent(self):\n",
        "    print(\"Parent Randsom\")\n",
        "class Child(Parent):\n",
        "  def randsom(self):\n",
        "    print(\"Child Randsom\")\n",
        "ob=Child()\n",
        "ob.randsom()\n",
        "ob.randsom_parent()\n",
        "ob.randsom_GrandParent()"
      ],
      "metadata": {
        "colab": {
          "base_uri": "https://localhost:8080/"
        },
        "id": "uk_E-aaIYY4u",
        "outputId": "0efd6484-cf1f-4838-a06f-9ebbfbc4ffb7"
      },
      "execution_count": 32,
      "outputs": [
        {
          "output_type": "stream",
          "name": "stdout",
          "text": [
            "Child Randsom\n",
            "Parent Randsom\n",
            "Grand Parent Randsom\n"
          ]
        }
      ]
    },
    {
      "cell_type": "code",
      "source": [
        "class mother:\n",
        "  def randsom_mother(self):\n",
        "    print(\"Mother Randsom\")\n",
        "class father:\n",
        "  def randsom_father(self):\n",
        "    print(\"Father Randsom\")\n",
        "class Child(father,mother):\n",
        "  def randsom(self):\n",
        "    print(\"Child Randsom\")\n",
        "ob=Child()\n",
        "ob.randsom()\n",
        "ob.randsom_father()\n",
        "ob.randsom_mother()"
      ],
      "metadata": {
        "colab": {
          "base_uri": "https://localhost:8080/"
        },
        "id": "2EcsTMxCajOH",
        "outputId": "769ab6b7-e1bd-464a-fc15-c4256aa9ef78"
      },
      "execution_count": 37,
      "outputs": [
        {
          "output_type": "stream",
          "name": "stdout",
          "text": [
            "Child Randsom\n",
            "Father Randsom\n",
            "Mother Randsom\n"
          ]
        }
      ]
    },
    {
      "cell_type": "code",
      "source": [
        "class Parent:\n",
        "  def randsom_parent(self):\n",
        "    print(\"Parent Randsom\")\n",
        "class Child1(Parent):\n",
        "  def randsom1(self):\n",
        "    print(\"Child one Randsom\")\n",
        "class Child2(Parent):\n",
        "  def randsom2(self):\n",
        "    print(\"Child Two Randsom\")\n",
        "ob1=Child1()\n",
        "ob1.randsom1()\n",
        "ob1.randsom_parent()\n",
        "ob2=Child2()\n",
        "ob2.randsom2()\n",
        "ob2.randsom_parent()\n"
      ],
      "metadata": {
        "colab": {
          "base_uri": "https://localhost:8080/"
        },
        "outputId": "ab3d125f-7273-4e01-c272-0cd616b45d66",
        "id": "vvtcaZ5Wct68"
      },
      "execution_count": 42,
      "outputs": [
        {
          "output_type": "stream",
          "name": "stdout",
          "text": [
            "Child one Randsom\n",
            "Parent Randsom\n",
            "Child Two Randsom\n",
            "Parent Randsom\n"
          ]
        }
      ]
    },
    {
      "cell_type": "code",
      "source": [],
      "metadata": {
        "id": "hIWsgPYJePvC"
      },
      "execution_count": 41,
      "outputs": []
    }
  ]
}